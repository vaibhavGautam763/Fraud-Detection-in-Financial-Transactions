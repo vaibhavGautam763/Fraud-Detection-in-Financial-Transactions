{
 "cells": [
  {
   "cell_type": "markdown",
   "id": "7c839eb3-9a88-415e-8c6c-5c85cdaca06f",
   "metadata": {},
   "source": [
    "Import Library"
   ]
  },
  {
   "cell_type": "code",
   "execution_count": 42,
   "id": "3e63b86a-876c-41c7-b154-3877fbef7189",
   "metadata": {},
   "outputs": [],
   "source": [
    "import os\n",
    "import gc\n",
    "import numpy as np\n",
    "import pandas as pd\n",
    "from sklearn.model_selection import train_test_split, StratifiedKFold, RandomizedSearchCV\n",
    "from sklearn.metrics import roc_auc_score, precision_recall_curve, auc, confusion_matrix, classification_report\n",
    "from sklearn.preprocessing import StandardScaler\n",
    "from sklearn.impute import SimpleImputer\n",
    "from sklearn.pipeline import Pipeline\n",
    "import lightgbm as lgb\n",
    "import xgboost as xgb\n",
    "import joblib\n",
    "\n",
    "# Optional: imbalanced tools\n",
    "from imblearn.over_sampling import SMOTE\n",
    "from sklearn.preprocessing import LabelEncoder"
   ]
  },
  {
   "cell_type": "code",
   "execution_count": 22,
   "id": "8f5f2b34-bedf-4b63-9d6f-dabec39eccc7",
   "metadata": {},
   "outputs": [],
   "source": [
    "# Data Load\n",
    "Data_Path = \"C:\\\\Users\\\\gauta\\\\Desktop\\\\New folder\\\\Fraud.csv\""
   ]
  },
  {
   "cell_type": "code",
   "execution_count": 23,
   "id": "4b171af1-61bc-443e-aa35-332f3a8fa20a",
   "metadata": {},
   "outputs": [],
   "source": [
    "SAMPLE_MODE =  True   # True while exploring; switch to False for full train"
   ]
  },
  {
   "cell_type": "code",
   "execution_count": 26,
   "id": "ed355ba1-37e1-4fb6-b5b1-619818ef3ea9",
   "metadata": {},
   "outputs": [],
   "source": [
    "# datatypes for memory efficiency\n",
    "\n",
    "dtypes = {\n",
    "    \"step\": \"int32\",\n",
    "    \"type\": \"category\",\n",
    "    \"amount\": \"float32\",\n",
    "    \"nameOrig\": \"category\",\n",
    "    \"oldbalanceOrg\": \"float32\",\n",
    "    \"newbalanceOrig\": \"float32\",\n",
    "    \"nameDest\": \"category\",\n",
    "    \"oldbalanceDest\": \"float32\",\n",
    "    \"newbalanceDest\": \"float32\",\n",
    "    \"isFraud\": \"int8\",\n",
    "    \"isFlaggedFraud\": \"int8\"\n",
    "}"
   ]
  },
  {
   "cell_type": "code",
   "execution_count": 27,
   "id": "32f8b28f-0d9a-4f9a-aac6-dcf9a52bb8fb",
   "metadata": {},
   "outputs": [
    {
     "name": "stdout",
     "output_type": "stream",
     "text": [
      "Shape: (6362620, 11)\n"
     ]
    },
    {
     "data": {
      "text/html": [
       "<div>\n",
       "<style scoped>\n",
       "    .dataframe tbody tr th:only-of-type {\n",
       "        vertical-align: middle;\n",
       "    }\n",
       "\n",
       "    .dataframe tbody tr th {\n",
       "        vertical-align: top;\n",
       "    }\n",
       "\n",
       "    .dataframe thead th {\n",
       "        text-align: right;\n",
       "    }\n",
       "</style>\n",
       "<table border=\"1\" class=\"dataframe\">\n",
       "  <thead>\n",
       "    <tr style=\"text-align: right;\">\n",
       "      <th></th>\n",
       "      <th>step</th>\n",
       "      <th>type</th>\n",
       "      <th>amount</th>\n",
       "      <th>nameOrig</th>\n",
       "      <th>oldbalanceOrg</th>\n",
       "      <th>newbalanceOrig</th>\n",
       "      <th>nameDest</th>\n",
       "      <th>oldbalanceDest</th>\n",
       "      <th>newbalanceDest</th>\n",
       "      <th>isFraud</th>\n",
       "      <th>isFlaggedFraud</th>\n",
       "    </tr>\n",
       "  </thead>\n",
       "  <tbody>\n",
       "    <tr>\n",
       "      <th>0</th>\n",
       "      <td>1</td>\n",
       "      <td>PAYMENT</td>\n",
       "      <td>9839.639648</td>\n",
       "      <td>C1231006815</td>\n",
       "      <td>170136.0</td>\n",
       "      <td>160296.359375</td>\n",
       "      <td>M1979787155</td>\n",
       "      <td>0.0</td>\n",
       "      <td>0.0</td>\n",
       "      <td>0</td>\n",
       "      <td>0</td>\n",
       "    </tr>\n",
       "    <tr>\n",
       "      <th>1</th>\n",
       "      <td>1</td>\n",
       "      <td>PAYMENT</td>\n",
       "      <td>1864.280029</td>\n",
       "      <td>C1666544295</td>\n",
       "      <td>21249.0</td>\n",
       "      <td>19384.720703</td>\n",
       "      <td>M2044282225</td>\n",
       "      <td>0.0</td>\n",
       "      <td>0.0</td>\n",
       "      <td>0</td>\n",
       "      <td>0</td>\n",
       "    </tr>\n",
       "    <tr>\n",
       "      <th>2</th>\n",
       "      <td>1</td>\n",
       "      <td>TRANSFER</td>\n",
       "      <td>181.000000</td>\n",
       "      <td>C1305486145</td>\n",
       "      <td>181.0</td>\n",
       "      <td>0.000000</td>\n",
       "      <td>C553264065</td>\n",
       "      <td>0.0</td>\n",
       "      <td>0.0</td>\n",
       "      <td>1</td>\n",
       "      <td>0</td>\n",
       "    </tr>\n",
       "    <tr>\n",
       "      <th>3</th>\n",
       "      <td>1</td>\n",
       "      <td>CASH_OUT</td>\n",
       "      <td>181.000000</td>\n",
       "      <td>C840083671</td>\n",
       "      <td>181.0</td>\n",
       "      <td>0.000000</td>\n",
       "      <td>C38997010</td>\n",
       "      <td>21182.0</td>\n",
       "      <td>0.0</td>\n",
       "      <td>1</td>\n",
       "      <td>0</td>\n",
       "    </tr>\n",
       "    <tr>\n",
       "      <th>4</th>\n",
       "      <td>1</td>\n",
       "      <td>PAYMENT</td>\n",
       "      <td>11668.139648</td>\n",
       "      <td>C2048537720</td>\n",
       "      <td>41554.0</td>\n",
       "      <td>29885.859375</td>\n",
       "      <td>M1230701703</td>\n",
       "      <td>0.0</td>\n",
       "      <td>0.0</td>\n",
       "      <td>0</td>\n",
       "      <td>0</td>\n",
       "    </tr>\n",
       "  </tbody>\n",
       "</table>\n",
       "</div>"
      ],
      "text/plain": [
       "   step      type        amount     nameOrig  oldbalanceOrg  newbalanceOrig  \\\n",
       "0     1   PAYMENT   9839.639648  C1231006815       170136.0   160296.359375   \n",
       "1     1   PAYMENT   1864.280029  C1666544295        21249.0    19384.720703   \n",
       "2     1  TRANSFER    181.000000  C1305486145          181.0        0.000000   \n",
       "3     1  CASH_OUT    181.000000   C840083671          181.0        0.000000   \n",
       "4     1   PAYMENT  11668.139648  C2048537720        41554.0    29885.859375   \n",
       "\n",
       "      nameDest  oldbalanceDest  newbalanceDest  isFraud  isFlaggedFraud  \n",
       "0  M1979787155             0.0             0.0        0               0  \n",
       "1  M2044282225             0.0             0.0        0               0  \n",
       "2   C553264065             0.0             0.0        1               0  \n",
       "3    C38997010         21182.0             0.0        1               0  \n",
       "4  M1230701703             0.0             0.0        0               0  "
      ]
     },
     "execution_count": 27,
     "metadata": {},
     "output_type": "execute_result"
    }
   ],
   "source": [
    "df = pd.read_csv(Data_Path, dtype=dtypes)\n",
    "print(\"Shape:\", df.shape)\n",
    "df.head()"
   ]
  },
  {
   "cell_type": "code",
   "execution_count": 29,
   "id": "146ef555-155c-4b04-ba8e-ed1c1e974774",
   "metadata": {},
   "outputs": [
    {
     "name": "stdout",
     "output_type": "stream",
     "text": [
      "step              0\n",
      "type              0\n",
      "amount            0\n",
      "nameOrig          0\n",
      "oldbalanceOrg     0\n",
      "newbalanceOrig    0\n",
      "nameDest          0\n",
      "oldbalanceDest    0\n",
      "newbalanceDest    0\n",
      "isFraud           0\n",
      "isFlaggedFraud    0\n",
      "dtype: int64\n",
      "             amount  oldbalanceOrg  newbalanceOrig  oldbalanceDest  \\\n",
      "count  6.362620e+06   6.362620e+06    6.362620e+06    6.362620e+06   \n",
      "mean   1.798619e+05   8.338834e+05    8.551137e+05    1.100702e+06   \n",
      "std    5.991358e+05   2.831753e+06    2.862818e+06    3.369338e+06   \n",
      "min    0.000000e+00   0.000000e+00    0.000000e+00    0.000000e+00   \n",
      "25%    1.338957e+04   0.000000e+00    0.000000e+00    0.000000e+00   \n",
      "50%    7.487194e+04   1.420800e+04    0.000000e+00    1.327057e+05   \n",
      "75%    2.087215e+05   1.073152e+05    1.442584e+05    9.430367e+05   \n",
      "max    9.244552e+07   5.958504e+07    4.958504e+07    3.560159e+08   \n",
      "\n",
      "       newbalanceDest  \n",
      "count    6.362620e+06  \n",
      "mean     1.224997e+06  \n",
      "std      3.629806e+06  \n",
      "min      0.000000e+00  \n",
      "25%      0.000000e+00  \n",
      "50%      2.146614e+05  \n",
      "75%      1.111909e+06  \n",
      "max      3.561793e+08  \n"
     ]
    }
   ],
   "source": [
    "# Checks\n",
    "print(df.isna().sum())\n",
    "print(df[['amount','oldbalanceOrg','newbalanceOrig','oldbalanceDest','newbalanceDest']].describe())"
   ]
  },
  {
   "cell_type": "code",
   "execution_count": 30,
   "id": "0f98876f-ec74-45cd-9dbc-ec58c4e4801a",
   "metadata": {},
   "outputs": [
    {
     "name": "stdout",
     "output_type": "stream",
     "text": [
      "Fraud rate: 0.001290820448180152\n",
      "Flagged fraud rate: 2.51468734577894e-06\n"
     ]
    }
   ],
   "source": [
    "# Check Fractions\n",
    "print(\"Fraud rate:\", df['isFraud'].mean())\n",
    "print(\"Flagged fraud rate:\", df['isFlaggedFraud'].mean())\n"
   ]
  },
  {
   "cell_type": "code",
   "execution_count": 33,
   "id": "a4b5669d-1f26-4f6a-809a-98354f92ec6b",
   "metadata": {},
   "outputs": [
    {
     "name": "stdout",
     "output_type": "stream",
     "text": [
      "orig_balance_diff summary:\n",
      "count    6.362620e+06\n",
      "mean    -2.010926e+05\n",
      "std      6.001532e+05\n",
      "min     -9.244552e+07\n",
      "25%     -2.496411e+05\n",
      "50%     -6.867725e+04\n",
      "75%     -2.954197e+03\n",
      "max      2.529785e+00\n",
      "Name: orig_balance_diff, dtype: float64\n",
      "dest_balance_diff summary:\n",
      "count    6.362620e+06\n",
      "mean     5.556721e+04\n",
      "std      4.388230e+05\n",
      "min     -7.588572e+07\n",
      "25%      0.000000e+00\n",
      "50%      3.500490e+03\n",
      "75%      2.935302e+04\n",
      "max      1.319123e+07\n",
      "Name: dest_balance_diff, dtype: float64\n"
     ]
    }
   ],
   "source": [
    "# Balance consistency diagnostics\n",
    "df['orig_balance_diff'] = df['oldbalanceOrg'] - df['newbalanceOrig'] - df['amount']\n",
    "df['dest_balance_diff'] = df['oldbalanceDest'] + df['amount'] - df['newbalanceDest']\n",
    "\n",
    "print(\"orig_balance_diff summary:\") #<--This is a Text Heading\n",
    "print(df['orig_balance_diff'].describe())\n",
    "print(\"dest_balance_diff summary:\")\n",
    "print(df['dest_balance_diff'].describe())"
   ]
  },
  {
   "cell_type": "code",
   "execution_count": 36,
   "id": "8087b7a5-9626-4316-a17f-08131f96ab6c",
   "metadata": {},
   "outputs": [],
   "source": [
    "df['orig_equals_dest'] = (df['nameOrig'].astype(str) == df['nameDest'].astype(str)).astype('int8')\n",
    "df['orig_equals_dest'] = (df['nameOrig'].astype('category')\n",
    "                            .cat.set_categories(df['nameDest'].cat.categories.union(df['nameOrig'].cat.categories))\n",
    "                          == df['nameDest'].astype('category')\n",
    "                            .cat.set_categories(df['nameDest'].cat.categories.union(df['nameOrig'].cat.categories))\n",
    "                         ).astype('int8')\n"
   ]
  },
  {
   "cell_type": "code",
   "execution_count": 38,
   "id": "d9b4cebf-2632-4685-8fc3-b8f3b2aae604",
   "metadata": {},
   "outputs": [],
   "source": [
    "# Feature engineering\n",
    "df['log_amount'] = np.log1p(df['amount'])\n",
    "\n",
    "# ratio safely with small epsilon\n",
    "eps = 1e-6\n",
    "df['amount_over_oldOrg'] = df['amount'] / (df['oldbalanceOrg'] + eps)\n",
    "df['amount_over_oldDest'] = df['amount'] / (df['oldbalanceDest'] + eps)"
   ]
  },
  {
   "cell_type": "code",
   "execution_count": 40,
   "id": "34f9851f-e614-4175-99cb-dd32e1a544f4",
   "metadata": {},
   "outputs": [],
   "source": [
    "\n",
    "# boolean if old balance zero (possible stolen card or new account)\n",
    "df['orig_oldbalance_zero'] = (df['oldbalanceOrg'] == 0).astype('int8')\n",
    "df['dest_oldbalance_zero'] = (df['oldbalanceDest'] == 0).astype('int8')\n"
   ]
  },
  {
   "cell_type": "code",
   "execution_count": 43,
   "id": "0dc1da6a-e140-4f12-b51a-a64ee35bb7e9",
   "metadata": {},
   "outputs": [],
   "source": [
    "# encode type with label encoding\n",
    "le = LabelEncoder()\n",
    "df['type_le'] = le.fit_transform(df['type'].astype(str))\n",
    "\n",
    "# optionally keep isFlaggedFraud as feature but note potential leakage\n",
    "df['isFlaggedFraud'] = df['isFlaggedFraud'].astype('int8')\n",
    "\n",
    "# Final feature list\n",
    "features = [\n",
    "    'type_le','log_amount','amount_over_oldOrg','amount_over_oldDest',\n",
    "    'orig_balance_inconsistent','dest_balance_inconsistent','orig_equals_dest',\n",
    "    'orig_oldbalance_zero','dest_oldbalance_zero','isFlaggedFraud'\n",
    "]"
   ]
  },
  {
   "cell_type": "code",
   "execution_count": 44,
   "id": "888e5124-940c-4a0e-be46-efe800c3ef97",
   "metadata": {},
   "outputs": [
    {
     "name": "stdout",
     "output_type": "stream",
     "text": [
      "Train fraud rate: 0.0012907418642005967 Test fraud rate: 0.0012911347840983745\n"
     ]
    }
   ],
   "source": [
    "# Split\n",
    "X = df[features]\n",
    "y = df['isFraud']\n",
    "\n",
    "X_train, X_test, y_train, y_test = train_test_split(\n",
    "    X, y, test_size=0.2, stratify=y, random_state=42)\n",
    "\n",
    "print(\"Train fraud rate:\", y_train.mean(), \"Test fraud rate:\", y_test.mean())\n"
   ]
  },
  {
   "cell_type": "code",
   "execution_count": 46,
   "id": "ecc3f3af-d187-4a46-95e9-80fb4b89a81f",
   "metadata": {},
   "outputs": [
    {
     "name": "stdout",
     "output_type": "stream",
     "text": [
      "scale_pos_weight: 773.7482496193646\n",
      "Training until validation scores don't improve for 50 rounds\n",
      "Early stopping, best iteration is:\n",
      "[1]\ttraining's auc: 0.998952\tvalid_1's auc: 0.997119\n"
     ]
    }
   ],
   "source": [
    "# LightGBM training with class weight (scale_pos_weight)\n",
    "neg = (y_train==0).sum()\n",
    "pos = (y_train==1).sum()\n",
    "scale_pos_weight = neg / (pos + 1e-9)\n",
    "print(\"scale_pos_weight:\", scale_pos_weight)\n",
    "\n",
    "lgb_train = lgb.Dataset(X_train, label=y_train)\n",
    "lgb_val = lgb.Dataset(X_test, label=y_test, reference=lgb_train)\n",
    "\n",
    "params = {\n",
    "    'objective': 'binary',\n",
    "    'metric': 'auc',\n",
    "    'boosting_type': 'gbdt',\n",
    "    'learning_rate': 0.05,\n",
    "    'num_leaves': 31,\n",
    "    'verbosity': -1,\n",
    "    'scale_pos_weight': scale_pos_weight,\n",
    "    'n_jobs': -1,\n",
    "    'seed': 42\n",
    "}\n",
    "\n",
    "import lightgbm as lgb\n",
    "model = lgb.train(\n",
    "    params,\n",
    "    lgb_train,\n",
    "    valid_sets=[lgb_train, lgb_val],\n",
    "    num_boost_round=1000,\n",
    "    callbacks=[lgb.early_stopping(stopping_rounds=50), \n",
    "               lgb.log_evaluation(period=100)]\n",
    ")\n"
   ]
  },
  {
   "cell_type": "code",
   "execution_count": 47,
   "id": "4393ea1d-101d-4f0a-912a-70a9827dd387",
   "metadata": {},
   "outputs": [
    {
     "name": "stdout",
     "output_type": "stream",
     "text": [
      "Best iteration: 1\n"
     ]
    }
   ],
   "source": [
    "print(\"Best iteration:\", model.best_iteration)"
   ]
  },
  {
   "cell_type": "code",
   "execution_count": 48,
   "id": "755616c0-289e-428d-97b4-bb353e43c9f6",
   "metadata": {},
   "outputs": [
    {
     "name": "stderr",
     "output_type": "stream",
     "text": [
      "C:\\ProgramData\\anaconda3\\Lib\\site-packages\\imblearn\\over_sampling\\_smote\\base.py:370: FutureWarning: The parameter `n_jobs` has been deprecated in 0.10 and will be removed in 0.12. You can pass an nearest neighbors estimator where `n_jobs` is already set instead.\n",
      "  warnings.warn(\n"
     ]
    },
    {
     "name": "stdout",
     "output_type": "stream",
     "text": [
      "Resampled shape: (10167052, 10) 5083526\n"
     ]
    }
   ],
   "source": [
    "#  SMOTE \n",
    "sm = SMOTE(random_state=42, n_jobs=-1)\n",
    "X_res, y_res = sm.fit_resample(X_train, y_train)\n",
    "print(\"Resampled shape:\", X_res.shape, y_res.sum())\n",
    "\n",
    "# train simpler LightGBM on resampled\n",
    "dtrain_res = lgb.Dataset(X_res, label=y_res)\n",
    "model_res = lgb.train(params, dtrain_res, num_boost_round=500)\n"
   ]
  },
  {
   "cell_type": "code",
   "execution_count": 49,
   "id": "5cdb4669-89c6-4074-8179-5213d2e4fa51",
   "metadata": {},
   "outputs": [
    {
     "name": "stdout",
     "output_type": "stream",
     "text": [
      "ROC AUC: 0.9971190251949591\n",
      "PR AUC: 0.7166759663303427\n",
      "Precision@10: 1.0000\n",
      "Precision@50: 0.9200\n",
      "Precision@100: 0.9000\n",
      "Precision@500: 0.6040\n"
     ]
    }
   ],
   "source": [
    "# Predictions & metrics\n",
    "y_proba = model.predict(X_test)\n",
    "roc_auc = roc_auc_score(y_test, y_proba)\n",
    "\n",
    "precision, recall, thresholds = precision_recall_curve(y_test, y_proba)\n",
    "pr_auc = auc(recall, precision)\n",
    "\n",
    "print(\"ROC AUC:\", roc_auc)\n",
    "print(\"PR AUC:\", pr_auc)\n",
    "\n",
    "# Choose a threshold that gives a good precision/recall tradeoff\n",
    "# Compute precision@K (top K highest probabilities)\n",
    "def precision_at_k(y_true, y_scores, k):\n",
    "    order = np.argsort(y_scores)[::-1]\n",
    "    topk = order[:k]\n",
    "    return y_true.iloc[topk].sum() / k\n",
    "\n",
    "for k in [10, 50, 100, 500]:\n",
    "    p_at_k = precision_at_k(y_test.reset_index(drop=True), pd.Series(y_proba), k)\n",
    "    print(f'Precision@{k}: {p_at_k:.4f}')\n"
   ]
  },
  {
   "cell_type": "code",
   "execution_count": 50,
   "id": "12892cc6-80a4-4efb-9315-bc66ba26f1cd",
   "metadata": {},
   "outputs": [
    {
     "name": "stdout",
     "output_type": "stream",
     "text": [
      "Confusion matrix (thr=0.5):\n",
      " [[1269163    1718]\n",
      " [      5    1638]]\n",
      "              precision    recall  f1-score   support\n",
      "\n",
      "           0     1.0000    0.9986    0.9993   1270881\n",
      "           1     0.4881    0.9970    0.6553      1643\n",
      "\n",
      "    accuracy                         0.9986   1272524\n",
      "   macro avg     0.7440    0.9978    0.8273   1272524\n",
      "weighted avg     0.9993    0.9986    0.9989   1272524\n",
      "\n"
     ]
    }
   ],
   "source": [
    "# Confusion matrix at threshold\n",
    "thr = 0.5\n",
    "y_pred = (y_proba >= thr).astype(int)\n",
    "cm = confusion_matrix(y_test, y_pred)\n",
    "print(\"Confusion matrix (thr=0.5):\\n\", cm)\n",
    "print(classification_report(y_test, y_pred, digits=4))\n"
   ]
  },
  {
   "cell_type": "code",
   "execution_count": 57,
   "id": "ca664721-4d83-434b-945d-14e8866b6caa",
   "metadata": {},
   "outputs": [
    {
     "name": "stderr",
     "output_type": "stream",
     "text": [
      "C:\\Users\\gauta\\AppData\\Roaming\\Python\\Python312\\site-packages\\shap\\explainers\\_tree.py:583: UserWarning: LightGBM binary classifier with TreeExplainer shap values output has changed to a list of ndarray\n",
      "  warnings.warn(\n"
     ]
    },
    {
     "data": {
      "image/png": "[encoded data removed]",
      "text/plain": [
       "<Figure size 800x550 with 1 Axes>"
      ]
     },
     "metadata": {},
     "output_type": "display_data"
    }
   ],
   "source": [
    "import shap\n",
    "explainer = shap.TreeExplainer(model)\n",
    "\n",
    "# Use a small subset for SHAP to keep compute reasonable\n",
    "X_shap = X_test.sample(n=min(10000, X_test.shape[0]), random_state=42)\n",
    "\n",
    "shap_vals = explainer.shap_values(X_shap)\n",
    "\n",
    "# summary plot\n",
    "shap.summary_plot(shap_vals, X_shap, plot_type=\"bar\")\n"
   ]
  },
  {
   "cell_type": "code",
   "execution_count": 58,
   "id": "73b082b7-8e4f-435c-a5d8-268b114ce634",
   "metadata": {},
   "outputs": [
    {
     "name": "stdout",
     "output_type": "stream",
     "text": [
      "Saved model to models/lightgbm_fraud_model.pkl\n"
     ]
    }
   ],
   "source": [
    "# Save\n",
    "model_path = \"models/lightgbm_fraud_model.pkl\"\n",
    "os.makedirs(os.path.dirname(model_path), exist_ok=True)\n",
    "joblib.dump(model, model_path)\n",
    "print(\"Saved model to\", model_path)\n"
   ]
  },
  {
   "cell_type": "code",
   "execution_count": null,
   "id": "d8a89bc8-2a91-4ce2-a041-8ffc09566201",
   "metadata": {},
   "outputs": [],
   "source": []
  },
  {
   "cell_type": "code",
   "execution_count": null,
   "id": "adc4bcd9-667c-4efd-9a09-b9865db8a9b0",
   "metadata": {},
   "outputs": [],
   "source": []
  },
  {
   "cell_type": "code",
   "execution_count": null,
   "id": "5f578297-5e43-43e5-afb9-3c2649b327b5",
   "metadata": {},
   "outputs": [],
   "source": []
  },
  {
   "cell_type": "code",
   "execution_count": null,
   "id": "c2ba641a-cdbf-4b6a-a2ff-542ee4fbb6b1",
   "metadata": {},
   "outputs": [],
   "source": []
  }
 ],
 "metadata": {
  "kernelspec": {
   "display_name": "Python 3 (ipykernel)",
   "language": "python",
   "name": "python3"
  },
  "language_info": {
   "codemirror_mode": {
    "name": "ipython",
    "version": 3
   },
   "file_extension": ".py",
   "mimetype": "text/x-python",
   "name": "python",
   "nbconvert_exporter": "python",
   "pygments_lexer": "ipython3",
   "version": "3.12.7"
  }
 },
 "nbformat": 4,
 "nbformat_minor": 5
}
